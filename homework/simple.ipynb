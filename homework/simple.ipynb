{
 "cells": [
  {
   "cell_type": "markdown",
   "id": "b28ed879",
   "metadata": {},
   "source": [
    "# XLMRat PCAP Malware Analysis Notebook"
   ]
  },
  {
   "cell_type": "markdown",
   "id": "760ff8e7",
   "metadata": {},
   "source": [
    "## 📥 Step 1: Load the PCAP File\n",
    "First, we'll use **Scapy** to load and parse the PCAP file, which contains network packets captured during a potential malware infection."
   ]
  },
  {
   "cell_type": "code",
   "execution_count": 13,
   "id": "369f1aa1",
   "metadata": {},
   "outputs": [
    {
     "name": "stdout",
     "output_type": "stream",
     "text": [
      "Total packets loaded: 1550\n"
     ]
    }
   ],
   "source": [
    "# Import necessary Scapy components\n",
    "from scapy.all import rdpcap, TCP, Raw, IP\n",
    "\n",
    "# Load the PCAP file\n",
    "packets = rdpcap('236-XLMRat.pcap')\n",
    "print(f\"Total packets loaded: {len(packets)}\")"
   ]
  },
  {
   "cell_type": "markdown",
   "id": "92158617",
   "metadata": {},
   "source": [
    "## 🌐 Step 2: Extract HTTP Requests\n",
    "We filter packets for HTTP GET or POST requests to identify URLs accessed by the infected machine. This helps pinpoint where the malware was downloaded from."
   ]
  },
  {
   "cell_type": "code",
   "execution_count": 14,
   "id": "cc1de9fc",
   "metadata": {},
   "outputs": [
    {
     "name": "stdout",
     "output_type": "stream",
     "text": [
      "🔗 URLs extracted from the PCAP:\n",
      "http://45.126.209.4:222/xlm.txt\n",
      "http://45.126.209.4:222/mdm.jpg\n"
     ]
    }
   ],
   "source": [
    "# Extract and reconstruct HTTP requests from TCP payloads\n",
    "http_requests = []\n",
    "for pkt in packets:\n",
    "    if pkt.haslayer(TCP) and pkt.haslayer(Raw):\n",
    "        try:\n",
    "            payload = pkt[Raw].load.decode('utf-8', errors='ignore')\n",
    "            if 'GET' in payload or 'POST' in payload:\n",
    "                lines = payload.splitlines()\n",
    "                method = lines[0] if lines else ''\n",
    "                host = next((line.split(':', 1)[1].strip() for line in lines if line.lower().startswith('host:')), '')\n",
    "                uri = method.split(' ')[1] if ' ' in method else ''\n",
    "                full_url = f\"http://{host}{uri}\"\n",
    "                http_requests.append(full_url)\n",
    "        except Exception:\n",
    "            continue\n",
    "\n",
    "print(\"🔗 URLs extracted from the PCAP:\")\n",
    "for url in http_requests:\n",
    "    print(url)"
   ]
  },
  {
   "cell_type": "markdown",
   "id": "89e8d66b",
   "metadata": {},
   "source": [
    "## 🛰️ Step 3: Determine Hosting Provider\n",
    "Now we take the host from the malicious URL and determine the IP address and hosting provider using `socket` and `requests`."
   ]
  },
  {
   "cell_type": "code",
   "execution_count": 15,
   "id": "4e5fdd84",
   "metadata": {},
   "outputs": [
    {
     "name": "stdout",
     "output_type": "stream",
     "text": [
      "IP Address: 45.126.209.4\n",
      "Hosting Provider: AS23470 ReliableSite.Net LLC\n"
     ]
    }
   ],
   "source": [
    "import socket\n",
    "import requests\n",
    "from urllib.parse import urlparse\n",
    "\n",
    "# Parse the IP address from the first suspicious URL\n",
    "target_url = http_requests[0]\n",
    "host = urlparse(target_url).hostname\n",
    "ip = socket.gethostbyname(host)\n",
    "\n",
    "# Query ipinfo.io to get hosting provider\n",
    "resp = requests.get(f\"https://ipinfo.io/{ip}/org\")\n",
    "print(f\"IP Address: {ip}\")\n",
    "print(f\"Hosting Provider: {resp.text.strip()}\")"
   ]
  },
  {
   "cell_type": "code",
   "execution_count": null,
   "id": "d705a33e-2f16-4158-a805-b67aaf295e4f",
   "metadata": {},
   "outputs": [],
   "source": []
  }
 ],
 "metadata": {
  "kernelspec": {
   "display_name": "Python 3 (ipykernel)",
   "language": "python",
   "name": "python3"
  },
  "language_info": {
   "codemirror_mode": {
    "name": "ipython",
    "version": 3
   },
   "file_extension": ".py",
   "mimetype": "text/x-python",
   "name": "python",
   "nbconvert_exporter": "python",
   "pygments_lexer": "ipython3",
   "version": "3.11.11"
  }
 },
 "nbformat": 4,
 "nbformat_minor": 5
}
